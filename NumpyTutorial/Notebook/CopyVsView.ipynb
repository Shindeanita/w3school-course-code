{
 "cells": [
  {
   "cell_type": "markdown",
   "id": "f8753319",
   "metadata": {},
   "source": [
    "The Difference Between Copy and View\n",
    "The main difference between a copy and a view of an array is that the copy is a new array, and the view is just a view of the original array.\n",
    "\n",
    "The copy owns the data and any changes made to the copy will not affect original array, and any changes made to the original array will not affect the copy.\n",
    "\n",
    "The view does not own the data and any changes made to the view will affect the original array, and any changes made to the original array will affect the view."
   ]
  },
  {
   "cell_type": "code",
   "execution_count": 1,
   "id": "ed3aa0fa",
   "metadata": {},
   "outputs": [],
   "source": [
    "#Copy\n",
    "\n",
    "import numpy as np \n"
   ]
  },
  {
   "cell_type": "code",
   "execution_count": 6,
   "id": "a7b8d5c1",
   "metadata": {},
   "outputs": [
    {
     "name": "stdout",
     "output_type": "stream",
     "text": [
      "---original array----\n",
      "[1 2 3 4 5]\n",
      "[1 2 3 4 5]\n",
      "---after changes in original and copy array-----\n",
      "[42  2  3  4  5]\n",
      "[ 1 32  3  4  5]\n"
     ]
    }
   ],
   "source": [
    "arr = np.array([1,2,3,4,5])\n",
    "newarr = arr.copy()\n",
    "print('---original array----')\n",
    "print(arr)\n",
    "print(newarr)\n",
    "\n",
    "arr[0] = 42\n",
    "newarr[1] = 32\n",
    "print('---after changes in original and copy array-----')\n",
    "print(arr)\n",
    "print(newarr)"
   ]
  },
  {
   "cell_type": "code",
   "execution_count": 7,
   "id": "a7a105f9",
   "metadata": {},
   "outputs": [
    {
     "name": "stdout",
     "output_type": "stream",
     "text": [
      "---original array----\n",
      "[1 2 3 4 5]\n",
      "[1 2 3 4 5]\n",
      "---after changes in original and copy array-----\n",
      "[42 32  3  4  5]\n",
      "[42 32  3  4  5]\n"
     ]
    }
   ],
   "source": [
    "#view\n",
    "arr1 = np.array([1,2,3,4,5])\n",
    "newarr1 = arr1.view()\n",
    "print('---original array----')\n",
    "print(arr1)\n",
    "print(newarr1)\n",
    "\n",
    "arr1[0] = 42\n",
    "newarr1[1] = 32\n",
    "print('---after changes in original and copy array-----')\n",
    "print(arr1)\n",
    "print(newarr1)"
   ]
  },
  {
   "cell_type": "code",
   "execution_count": 8,
   "id": "1eb408df",
   "metadata": {},
   "outputs": [
    {
     "name": "stdout",
     "output_type": "stream",
     "text": [
      "None\n",
      "[1 2 5 8 7]\n"
     ]
    }
   ],
   "source": [
    "#Check array owns the data or not\n",
    "# As mentioned above, copies owns the data, and views does not own the data, but how can we check this?\n",
    "# Every NumPy array has the attribute base that returns None if the array owns the data.\n",
    "# Otherwise, the base  attribute refers to the original object.\n",
    "arr2= np.array([1,2,5,8,7])\n",
    "x = arr2.copy()\n",
    "y= arr2.view()\n",
    "\n",
    "print(x.base)\n",
    "print(y.base)"
   ]
  }
 ],
 "metadata": {
  "kernelspec": {
   "display_name": "Python 3 (ipykernel)",
   "language": "python",
   "name": "python3"
  },
  "language_info": {
   "codemirror_mode": {
    "name": "ipython",
    "version": 3
   },
   "file_extension": ".py",
   "mimetype": "text/x-python",
   "name": "python",
   "nbconvert_exporter": "python",
   "pygments_lexer": "ipython3",
   "version": "3.10.4"
  }
 },
 "nbformat": 4,
 "nbformat_minor": 5
}
