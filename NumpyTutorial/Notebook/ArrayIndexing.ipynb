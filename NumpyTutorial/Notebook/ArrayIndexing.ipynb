{
 "cells": [
  {
   "cell_type": "code",
   "execution_count": 1,
   "id": "4d9f4e66",
   "metadata": {},
   "outputs": [],
   "source": [
    "import numpy as np"
   ]
  },
  {
   "cell_type": "code",
   "execution_count": 3,
   "id": "ca69ea5c",
   "metadata": {},
   "outputs": [
    {
     "name": "stdout",
     "output_type": "stream",
     "text": [
      "5\n"
     ]
    }
   ],
   "source": [
    "arr = np.array([1,2,3,4,5])\n",
    "print(arr[4])"
   ]
  },
  {
   "cell_type": "markdown",
   "id": "6c244386",
   "metadata": {},
   "source": [
    "#### Accessing 2-D arrays"
   ]
  },
  {
   "cell_type": "code",
   "execution_count": 8,
   "id": "dfd7fa35",
   "metadata": {},
   "outputs": [
    {
     "name": "stdout",
     "output_type": "stream",
     "text": [
      "1\n",
      "8\n",
      "10\n"
     ]
    }
   ],
   "source": [
    "arr1 = np.array([[1,2,3,4,5],[6,7,8,9,10]])\n",
    "print(arr1[0][0])\n",
    "print(arr1[1][2])\n",
    "print(arr1[1,4])\n"
   ]
  },
  {
   "cell_type": "markdown",
   "id": "d2e0424b",
   "metadata": {},
   "source": [
    "#### Accessing 3-D array"
   ]
  },
  {
   "cell_type": "code",
   "execution_count": 13,
   "id": "01016d6f",
   "metadata": {},
   "outputs": [
    {
     "name": "stdout",
     "output_type": "stream",
     "text": [
      "[[[ 1  2  3]\n",
      "  [ 4  5  6]]\n",
      "\n",
      " [[ 7  8  9]\n",
      "  [10 11 12]]]\n",
      "6\n",
      "12\n"
     ]
    }
   ],
   "source": [
    "arr2 = np.array([[[1,2,3],[4,5,6]],[[7,8,9],[10,11,12]]])\n",
    "print(arr2)\n",
    "print(arr2[0,1,2])\n",
    "print(arr2[1,1,2])"
   ]
  },
  {
   "cell_type": "markdown",
   "id": "55328117",
   "metadata": {},
   "source": [
    "#### Negative Indexing\n"
   ]
  },
  {
   "cell_type": "code",
   "execution_count": 21,
   "id": "cf674525",
   "metadata": {},
   "outputs": [
    {
     "name": "stdout",
     "output_type": "stream",
     "text": [
      "2\n"
     ]
    }
   ],
   "source": [
    "#print last element of 2nd Dimention\n",
    "arr3 = np.array([[1,2,3,4],[5,6,7,8]])\n",
    "print(arr3[0,-3])"
   ]
  },
  {
   "cell_type": "code",
   "execution_count": null,
   "id": "e9232d18",
   "metadata": {},
   "outputs": [],
   "source": []
  },
  {
   "cell_type": "code",
   "execution_count": null,
   "id": "cb3f300b",
   "metadata": {},
   "outputs": [],
   "source": []
  },
  {
   "cell_type": "code",
   "execution_count": null,
   "id": "90dc5b72",
   "metadata": {},
   "outputs": [],
   "source": []
  },
  {
   "cell_type": "code",
   "execution_count": null,
   "id": "dc1545ba",
   "metadata": {},
   "outputs": [],
   "source": []
  },
  {
   "cell_type": "code",
   "execution_count": null,
   "id": "881013b4",
   "metadata": {},
   "outputs": [],
   "source": []
  },
  {
   "cell_type": "code",
   "execution_count": null,
   "id": "b8651875",
   "metadata": {},
   "outputs": [],
   "source": []
  },
  {
   "cell_type": "code",
   "execution_count": null,
   "id": "cdfb32c1",
   "metadata": {},
   "outputs": [],
   "source": []
  }
 ],
 "metadata": {
  "kernelspec": {
   "display_name": "Python 3 (ipykernel)",
   "language": "python",
   "name": "python3"
  },
  "language_info": {
   "codemirror_mode": {
    "name": "ipython",
    "version": 3
   },
   "file_extension": ".py",
   "mimetype": "text/x-python",
   "name": "python",
   "nbconvert_exporter": "python",
   "pygments_lexer": "ipython3",
   "version": "3.10.4"
  }
 },
 "nbformat": 4,
 "nbformat_minor": 5
}
